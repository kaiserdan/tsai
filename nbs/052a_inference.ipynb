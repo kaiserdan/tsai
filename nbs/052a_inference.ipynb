{
 "cells": [
  {
   "cell_type": "code",
   "execution_count": null,
   "metadata": {},
   "outputs": [],
   "source": [
    "# default_exp inference"
   ]
  },
  {
   "cell_type": "markdown",
   "metadata": {},
   "source": [
    "# Inference\n",
    "\n",
    "> This contains the code required for inference."
   ]
  },
  {
   "cell_type": "code",
   "execution_count": null,
   "metadata": {},
   "outputs": [],
   "source": [
    "# export\n",
    "from fastai.learner import load_learner\n",
    "from fastai.callback.core import GatherPredsCallback\n",
    "from fastai.learner import Learner\n",
    "from fastcore.basics import patch\n",
    "from fastcore.meta import delegates"
   ]
  },
  {
   "cell_type": "code",
   "execution_count": null,
   "metadata": {},
   "outputs": [],
   "source": [
    "#export\n",
    "@patch\n",
    "def get_X_preds(self: Learner, X, y=None, bs=64, with_input=False, with_decoded=True, with_loss=False):\n",
    "    if with_loss and y is None:\n",
    "        print(\"cannot find loss as y=None\")\n",
    "        with_loss = False\n",
    "    dl = self.dls.valid.new_dl(X, y=y, bs=bs)\n",
    "    output = list(self.get_preds(dl=dl, with_input=with_input, with_decoded=with_decoded, with_loss=with_loss, reorder=False))\n",
    "    if with_decoded and len(self.dls.tls) >= 2 and hasattr(self.dls.tls[-1], \"tfms\") and hasattr(self.dls.tls[-1].tfms, \"decodes\"):\n",
    "        output[2 + with_input] = self.dls.tls[-1].tfms.decode(output[2 + with_input])\n",
    "    return tuple(output)"
   ]
  },
  {
   "cell_type": "markdown",
   "metadata": {},
   "source": [
    "Get the predictions and targets, optionally with_input and with_loss.\n",
    "\n",
    "with_decoded will also return the decoded predictions (it reverses the transforms applied).\n",
    "\n",
    "The order of the output is the following: \n",
    "\n",
    "- input (optional): if with_input is True\n",
    "- **probabiblities** (for classification) or **predictions** (for regression)\n",
    "- **target**: if y is provided. Otherwise None.\n",
    "- **predictions**: predicted labels. Predictions will be decoded if with_decoded=True.\n",
    "- loss (optional): if with_loss is set to True and y is not None."
   ]
  },
  {
   "cell_type": "code",
   "execution_count": null,
   "metadata": {},
   "outputs": [],
   "source": [
    "from tsai.data.external import get_UCR_data\n",
    "dsid = 'OliveOil'\n",
    "X, y, splits = get_UCR_data(dsid, split_data=False)\n",
    "X_test = X[splits[1]]\n",
    "y_test = y[splits[1]]"
   ]
  },
  {
   "cell_type": "code",
   "execution_count": null,
   "metadata": {},
   "outputs": [],
   "source": [
    "learn = load_learner(\"./models/test.pth\")"
   ]
  },
  {
   "cell_type": "markdown",
   "metadata": {},
   "source": [
    "⚠️ Warning: load_learner (from fastai) requires all your custom code be in the exact same place as when exporting your Learner (the main script, or the module you imported it from)."
   ]
  },
  {
   "cell_type": "code",
   "execution_count": null,
   "metadata": {},
   "outputs": [
    {
     "data": {
      "text/html": [],
      "text/plain": [
       "<IPython.core.display.HTML object>"
      ]
     },
     "metadata": {},
     "output_type": "display_data"
    },
    {
     "data": {
      "text/plain": [
       "(TSTensor(vars:30, len:4, device=cpu),\n",
       " None,\n",
       " array(['4', '4', '4', '4', '4', '4', '4', '4', '4', '4', '4', '4', '4',\n",
       "        '4', '4', '4', '4', '4', '4', '4', '4', '4', '4', '4', '4', '4',\n",
       "        '4', '4', '4', '4'], dtype='<U1'))"
      ]
     },
     "execution_count": null,
     "metadata": {},
     "output_type": "execute_result"
    }
   ],
   "source": [
    "test_probas, test_targets, test_preds = learn.get_X_preds(X_test, with_decoded=True)\n",
    "test_probas, test_targets, test_preds"
   ]
  },
  {
   "cell_type": "code",
   "execution_count": null,
   "metadata": {},
   "outputs": [
    {
     "data": {
      "text/html": [],
      "text/plain": [
       "<IPython.core.display.HTML object>"
      ]
     },
     "metadata": {},
     "output_type": "display_data"
    },
    {
     "data": {
      "text/plain": [
       "(TSTensor(vars:30, len:4, device=cpu),\n",
       " TensorCategory([0, 0, 0, 0, 0, 1, 1, 1, 1, 1, 1, 1, 1, 1, 2, 2, 2, 2, 3, 3, 3, 3, 3, 3,\n",
       "         3, 3, 3, 3, 3, 3]),\n",
       " array(['4', '4', '4', '4', '4', '4', '4', '4', '4', '4', '4', '4', '4',\n",
       "        '4', '4', '4', '4', '4', '4', '4', '4', '4', '4', '4', '4', '4',\n",
       "        '4', '4', '4', '4'], dtype='<U1'))"
      ]
     },
     "execution_count": null,
     "metadata": {},
     "output_type": "execute_result"
    }
   ],
   "source": [
    "test_probas2, test_targets2, test_preds2 = learn.get_X_preds(X_test, y_test, with_decoded=True)\n",
    "test_probas2, test_targets2, test_preds2"
   ]
  },
  {
   "cell_type": "code",
   "execution_count": null,
   "metadata": {},
   "outputs": [
    {
     "data": {
      "text/html": [],
      "text/plain": [
       "<IPython.core.display.HTML object>"
      ]
     },
     "metadata": {},
     "output_type": "display_data"
    },
    {
     "data": {
      "text/plain": [
       "(TSTensor(vars:30, len:4, device=cpu),\n",
       " TensorCategory([0, 0, 0, 0, 0, 1, 1, 1, 1, 1, 1, 1, 1, 1, 2, 2, 2, 2, 3, 3, 3, 3, 3, 3,\n",
       "         3, 3, 3, 3, 3, 3]),\n",
       " array(['4', '4', '4', '4', '4', '4', '4', '4', '4', '4', '4', '4', '4',\n",
       "        '4', '4', '4', '4', '4', '4', '4', '4', '4', '4', '4', '4', '4',\n",
       "        '4', '4', '4', '4'], dtype='<U1'),\n",
       " TensorBase([1.3874, 1.3874, 1.3874, 1.3874, 1.3874, 1.3708, 1.3708, 1.3708, 1.3708,\n",
       "         1.3708, 1.3708, 1.3708, 1.3708, 1.3708, 1.4503, 1.4504, 1.4504, 1.4504,\n",
       "         1.3399, 1.3399, 1.3399, 1.3399, 1.3399, 1.3399, 1.3399, 1.3399, 1.3399,\n",
       "         1.3399, 1.3398, 1.3399]))"
      ]
     },
     "execution_count": null,
     "metadata": {},
     "output_type": "execute_result"
    }
   ],
   "source": [
    "test_probas3, test_targets3, test_preds3, test_losses3 = learn.get_X_preds(X_test, y_test, with_loss=True, with_decoded=True)\n",
    "test_probas3, test_targets3, test_preds3, test_losses3"
   ]
  },
  {
   "cell_type": "code",
   "execution_count": null,
   "metadata": {},
   "outputs": [],
   "source": [
    "from fastcore.test import test_eq\n",
    "test_eq(test_probas, test_probas2)\n",
    "test_eq(test_preds, test_preds2)\n",
    "test_eq(test_probas, test_probas3)\n",
    "test_eq(test_preds, test_preds3)"
   ]
  },
  {
   "cell_type": "code",
   "execution_count": null,
   "metadata": {},
   "outputs": [],
   "source": [
    "#hide\n",
    "from tsai.imports import create_scripts\n",
    "from tsai.export import get_nb_name\n",
    "nb_name = get_nb_name()\n",
    "create_scripts(nb_name);"
   ]
  }
 ],
 "metadata": {
  "kernelspec": {
   "display_name": "Python 3",
   "language": "python",
   "name": "python3"
  }
 },
 "nbformat": 4,
 "nbformat_minor": 4
}
