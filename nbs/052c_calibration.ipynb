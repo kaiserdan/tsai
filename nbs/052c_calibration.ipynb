{
 "cells": [
  {
   "cell_type": "code",
   "execution_count": null,
   "metadata": {},
   "outputs": [],
   "source": [
    "# default_exp calibration"
   ]
  },
  {
   "cell_type": "markdown",
   "metadata": {},
   "source": [
    "# Calibration\n",
    "\n",
    "> Functionality to calibrate a trained, binary classification model using temperature scaling.\n",
    "\n",
    "This functionality is based on Guo, C., Pleiss, G., Sun, Y., & Weinberger, K. Q. (2017, July). On calibration of modern neural networks. In International Conference on Machine Learning (pp. 1321-1330). PMLR.\n",
    "\n",
    "It's also heavily inspired in the following code https://github.com/gpleiss/temperature_scaling. We recommend the users to take a look at this great repo. "
   ]
  },
  {
   "cell_type": "code",
   "execution_count": null,
   "metadata": {},
   "outputs": [],
   "source": [
    "from tsai.data.external import get_UCR_data\n",
    "from tsai.data.preprocessing import TSRobustScale\n",
    "from tsai.learner import ts_learner\n",
    "from tsai.models.FCNPlus import FCNPlus"
   ]
  },
  {
   "cell_type": "code",
   "execution_count": null,
   "metadata": {},
   "outputs": [],
   "source": [
    "#export\n",
    "from tsai.imports import *\n",
    "from tsai.data.core import *"
   ]
  },
  {
   "cell_type": "code",
   "execution_count": null,
   "metadata": {},
   "outputs": [],
   "source": [
    "#export\n",
    "# import torch\n",
    "# from torch import nn, optim\n",
    "# from torch.nn import functional as F\n",
    "# from fastai.losses import CrossEntropyLossFlat\n",
    "\n",
    "\n",
    "class ModelWithTemperature(nn.Module):\n",
    "    \"\"\" A decorator which wraps a model with temperature scaling \"\"\"\n",
    "\n",
    "    def __init__(self, model):\n",
    "        super().__init__()\n",
    "        self.model = model\n",
    "        self.temperature = nn.Parameter(torch.ones(1,1))\n",
    "\n",
    "    def forward(self, input):\n",
    "        logits = self.model(input)\n",
    "        return self.temperature_scale(logits)\n",
    "\n",
    "    def temperature_scale(self, logits):\n",
    "        temperature = self.temperature.expand(logits.size(0), logits.size(1)).to(logits.device)\n",
    "        return torch.div(logits, temperature)\n",
    "\n",
    "\n",
    "class TemperatureSetter(nn.Module):\n",
    "    \"\"\" Calibrates a binary classification model optimizing temperature \"\"\"\n",
    "\n",
    "    def __init__(self, model, lr=0.01, max_iter=1_000, line_search_fn=None, n_bins=10, verbose=True):\n",
    "        super().__init__()\n",
    "        self.model = ModelWithTemperature(model) if not hasattr(model, 'temperature_scale') else model\n",
    "        self.lr, self.max_iter, self.line_search_fn, self.n_bins, self.verbose = lr, max_iter, line_search_fn, n_bins, verbose \n",
    "        self.nll_criterion = CrossEntropyLossFlat()\n",
    "        self.ece_criterion = ECELoss(n_bins)\n",
    "\n",
    "    def forward(self, dl):\n",
    "        logits_list = []\n",
    "        labels_list = []\n",
    "        with torch.no_grad():\n",
    "            for input, label in dl:\n",
    "                logits = self.model(input)\n",
    "                logits_list.append(logits)\n",
    "                labels_list.append(label)\n",
    "            logits = torch.cat(logits_list)\n",
    "            labels = torch.cat(labels_list)\n",
    "\n",
    "        if self.verbose:\n",
    "            before_temperature_nll = self.nll_criterion(logits, labels).item()\n",
    "            before_temperature_ece = self.ece_criterion(logits, labels).item()\n",
    "            print(f'Before temperature - NLL: {before_temperature_nll:.3f}, ECE: {before_temperature_ece:.3f}')\n",
    "\n",
    "        optimizer = torch.optim.LBFGS([self.model.temperature], lr=self.lr, max_iter=self.max_iter, line_search_fn=self.line_search_fn)\n",
    "\n",
    "        def _evaluation():\n",
    "            optimizer.zero_grad()\n",
    "            loss = self.nll_criterion(self.model.temperature_scale(logits), labels)\n",
    "            loss.backward()\n",
    "            return loss\n",
    "\n",
    "        pv('Calibrating the model...', self.verbose)\n",
    "        optimizer.step(_evaluation)\n",
    "        pv('...model calibrated', self.verbose)\n",
    "\n",
    "        if self.verbose:\n",
    "            after_temperature_nll = self.nll_criterion(self.model.temperature_scale(logits), labels).item()\n",
    "            after_temperature_ece = self.ece_criterion(self.model.temperature_scale(logits), labels).item()\n",
    "            print(f'Optimal temperature: {self.model.temperature.item():.3f}')\n",
    "            print(f'After temperature  - NLL: {after_temperature_nll:.3f}, ECE: {after_temperature_ece:.3f}\\n')\n",
    "\n",
    "        self.logits = logits\n",
    "        self.scaled_logits = self.model.temperature_scale(logits)\n",
    "        self.labels = labels\n",
    "        self.calibrated_model = self.model\n",
    "\n",
    "\n",
    "class ECELoss(nn.Module):\n",
    "    \"\"\"Calculates the Expected Calibration Error of a model.\"\"\"\n",
    "    def __init__(self, n_bins=10):\n",
    "        super().__init__()\n",
    "        bin_boundaries = torch.linspace(0, 1, n_bins + 1)\n",
    "        self.bin_lowers = bin_boundaries[:-1]\n",
    "        self.bin_uppers = bin_boundaries[1:]\n",
    "\n",
    "    def forward(self, logits, labels):\n",
    "        softmaxes = F.softmax(logits, dim=1)\n",
    "        confidences, predictions = torch.max(softmaxes, 1)\n",
    "        if isinstance(softmaxes, TSTensor):\n",
    "            confidences, predictions = confidences.data, predictions.data\n",
    "        accuracies = torch.eq(predictions.data, labels)\n",
    "\n",
    "        ece = torch.zeros(1, device=logits.device)\n",
    "        for bin_lower, bin_upper in zip(self.bin_lowers, self.bin_uppers):\n",
    "            # Calculated |confidence - accuracy| in each bin\n",
    "            in_bin = confidences.gt(bin_lower.item()) * confidences.le(bin_upper.item())\n",
    "            prop_in_bin = in_bin.float().mean()\n",
    "            if prop_in_bin.item() > 0:\n",
    "                accuracy_in_bin = accuracies[in_bin].float().mean()\n",
    "                avg_confidence_in_bin = confidences[in_bin].mean()\n",
    "                ece += torch.abs(avg_confidence_in_bin - accuracy_in_bin) * prop_in_bin\n",
    "        return ece"
   ]
  },
  {
   "cell_type": "code",
   "execution_count": null,
   "metadata": {},
   "outputs": [],
   "source": [
    "#export\n",
    "def plot_calibration_curve(labels, logits, cal_logits=None, figsize=(6,6), n_bins=10, strategy='uniform'):\n",
    "    from sklearn.calibration import calibration_curve\n",
    "    y_true = labels.cpu().numpy()\n",
    "    pos_probas = F.softmax(logits, dim=1)[:, 1].detach().cpu().numpy()\n",
    "    nn_y, nn_x = calibration_curve(y_true, pos_probas, n_bins=n_bins, strategy=strategy)\n",
    "    fig, ax = plt.subplots(figsize=figsize)\n",
    "    fig.suptitle(\"Calibration plot\", fontsize=16)\n",
    "    ax.plot(nn_x, nn_y, marker=\"o\", linewidth=1, color='orange', label='probas')\n",
    "    if cal_logits is not None:\n",
    "        pos_cal_probas = F.softmax(cal_logits, dim=1)[:, 1].detach().cpu().numpy()\n",
    "        cal_nn_y, cal_nn_x = calibration_curve(y_true, pos_cal_probas, n_bins=n_bins, strategy=strategy)\n",
    "        ax.plot(cal_nn_x, cal_nn_y, marker=\"o\", linewidth=1, color='purple', label='calibrated probas')\n",
    "    ax.plot([0, 1], [0, 1], transform=ax.transAxes, color='gray', lw=1)\n",
    "    ax.set_xlabel(\"Predicted probability\", fontsize=12)\n",
    "    ax.set_ylabel(\"True probability in each bin\", fontsize=12)\n",
    "    ax.set_xticks(np.linspace(0,1,11))\n",
    "    ax.set_yticks(np.linspace(0,1,11))\n",
    "    ax.set_xlim(0,1)\n",
    "    ax.set_ylim(0,1)\n",
    "    initial_ECE = ECELoss(n_bins)(logits, labels).item()\n",
    "    if cal_logits is not None:\n",
    "        final_ECE = ECELoss(n_bins)(cal_logits, labels).item()\n",
    "        title = f\"initial ECE: {initial_ECE:.3f} - final ECE: {final_ECE:.3f}\"\n",
    "    else:\n",
    "        title = f\"ECE: {initial_ECE:.3f}\"\n",
    "    plt.title(title)\n",
    "    plt.legend(loc='best')\n",
    "    plt.show()"
   ]
  },
  {
   "cell_type": "code",
   "execution_count": null,
   "metadata": {},
   "outputs": [],
   "source": [
    "#export\n",
    "@patch\n",
    "def calibrate_model(self:Learner, X=None, y=None, lr=1e-2, max_iter=10_000, line_search_fn=None, n_bins=10, strategy='uniform', \n",
    "                    show_plot=True, figsize=(6,6), verbose=True):\n",
    "    if X is not None and y is not None: \n",
    "        dl = learn.dls.valid.new_dl(X, y)\n",
    "    else: \n",
    "        dl = learn.dls.valid\n",
    "    assert dl.c == 2, \"calibrate_model is only available for binary classification tasks\"\n",
    "    temp_setter = TemperatureSetter(self.model, lr=lr, max_iter=max_iter, line_search_fn=line_search_fn, n_bins=n_bins, verbose=verbose)\n",
    "    self.calibrated_model = temp_setter(dl)\n",
    "    if show_plot:\n",
    "        plot_calibration_curve(temp_setter.labels, temp_setter.logits, temp_setter.scaled_logits, n_bins=n_bins, strategy=strategy, figsize=figsize)"
   ]
  },
  {
   "cell_type": "code",
   "execution_count": null,
   "metadata": {},
   "outputs": [
    {
     "data": {
      "text/html": [
       "<table border=\"1\" class=\"dataframe\">\n",
       "  <thead>\n",
       "    <tr style=\"text-align: left;\">\n",
       "      <th>epoch</th>\n",
       "      <th>train_loss</th>\n",
       "      <th>valid_loss</th>\n",
       "      <th>accuracy</th>\n",
       "      <th>time</th>\n",
       "    </tr>\n",
       "  </thead>\n",
       "  <tbody>\n",
       "    <tr>\n",
       "      <td>0</td>\n",
       "      <td>0.690121</td>\n",
       "      <td>0.695668</td>\n",
       "      <td>0.490000</td>\n",
       "      <td>00:02</td>\n",
       "    </tr>\n",
       "    <tr>\n",
       "      <td>1</td>\n",
       "      <td>0.694779</td>\n",
       "      <td>0.715812</td>\n",
       "      <td>0.430000</td>\n",
       "      <td>00:02</td>\n",
       "    </tr>\n",
       "  </tbody>\n",
       "</table>"
      ],
      "text/plain": [
       "<IPython.core.display.HTML object>"
      ]
     },
     "metadata": {},
     "output_type": "display_data"
    }
   ],
   "source": [
    "from tsai.data.external import get_UCR_data\n",
    "from tsai.data.preprocessing import TSRobustScale\n",
    "from tsai.learner import ts_learner\n",
    "from tsai.models.FCNPlus import FCNPlus\n",
    "\n",
    "from tsai.data.external import get_UCR_data\n",
    "from tsai.data.preprocessing import TSRobustScale\n",
    "from tsai.data.core import TSClassification, get_ts_dls\n",
    "from tsai.learner import ts_learner\n",
    "from tsai.models.FCNPlus import FCNPlus\n",
    "from fastai.metrics import accuracy\n",
    "\n",
    "X, y, splits = get_UCR_data('FingerMovements', split_data=False)\n",
    "tfms  = [None, [TSClassification()]]\n",
    "batch_tfms = TSRobustScale()\n",
    "dls = get_ts_dls(X, y, splits=splits, tfms=tfms, batch_tfms=batch_tfms)\n",
    "learn = ts_learner(dls, FCNPlus, metrics=accuracy)\n",
    "learn.fit_one_cycle(2)"
   ]
  },
  {
   "cell_type": "code",
   "execution_count": null,
   "metadata": {},
   "outputs": [
    {
     "name": "stdout",
     "output_type": "stream",
     "text": [
      "Before temperature - NLL: 0.716, ECE: 0.112\n",
      "Calibrating the model...\n",
      "...model calibrated\n",
      "Optimal temperature: 401.737\n",
      "After temperature  - NLL: 0.693, ECE: 0.070\n",
      "\n"
     ]
    },
    {
     "data": {
      "image/png": "[encoded data removed]",
      "text/plain": [
       "<Figure size 432x432 with 1 Axes>"
      ]
     },
     "metadata": {
      "needs_background": "light"
     },
     "output_type": "display_data"
    }
   ],
   "source": [
    "learn.calibrate_model()\n",
    "calibrated_model = learn.calibrated_model"
   ]
  },
  {
   "cell_type": "code",
   "execution_count": null,
   "metadata": {},
   "outputs": [],
   "source": [
    "#hide\n",
    "from tsai.imports import create_scripts\n",
    "from tsai.export import get_nb_name\n",
    "nb_name = get_nb_name()\n",
    "create_scripts(nb_name);"
   ]
  },
  {
   "cell_type": "code",
   "execution_count": null,
   "metadata": {},
   "outputs": [],
   "source": []
  }
 ],
 "metadata": {
  "kernelspec": {
   "display_name": "Python 3 (ipykernel)",
   "language": "python",
   "name": "python3"
  }
 },
 "nbformat": 4,
 "nbformat_minor": 4
}
